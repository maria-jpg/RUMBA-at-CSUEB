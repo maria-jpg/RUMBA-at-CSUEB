{
 "cells": [
  {
   "cell_type": "markdown",
   "metadata": {},
   "source": [
    "10 November 2020\n",
    "Title: Demographic Breakdown + Similar Funding\n",
    "Author: Maria Palomino\n",
    "Description: \n",
    "    Finding the median household income for all counties \n",
    "    using 2010 Census Bureau data\n",
    "https://www.census.gov/quickfacts/fact/table/US/PST045219"
   ]
  },
  {
   "cell_type": "code",
   "execution_count": 1,
   "metadata": {},
   "outputs": [],
   "source": [
    "import numpy as np\n",
    "import pandas as pd\n",
    "import matplotlib.pyplot as plt\n",
    "from pandas import ExcelWriter\n",
    "from pandas import ExcelFile\n",
    "\n",
    "income1 = pd.read_csv('firstSix.csv')\n",
    "income2 = pd.read_csv('lastThree.csv')\n"
   ]
  },
  {
   "cell_type": "code",
   "execution_count": 2,
   "metadata": {},
   "outputs": [
    {
     "name": "stdout",
     "output_type": "stream",
     "text": [
      "Alameda  MHI is:  92574.0\n",
      "Contra Costa  MHI is:  93712.0\n",
      "Marin  MHI is:  110217.0\n",
      "Napa  MHI is:  84753.0\n",
      "San Francisco  MHI is:  104552.0\n",
      "San Mateo  MHI is:  113776.0\n",
      "Santa Clara  MHI is:  116178.0\n",
      "Solano  MHI is:  77609.0\n",
      "Sonoma  MHI is:  76753.0\n",
      "Mean is  10286.0\n",
      "Alameda  MHI is:  92574.0\n",
      "Contra Costa  MHI is:  93712.0\n",
      "Marin  MHI is:  110217.0\n",
      "Napa  MHI is:  84753.0\n",
      "San Francisco  MHI is:  104552.0\n",
      "San Mateo  MHI is:  113776.0\n",
      "Santa Clara  MHI is:  116178.0\n",
      "Solano  MHI is:  77609.0\n",
      "Sonoma  MHI is:  76753.0\n"
     ]
    },
    {
     "data": {
      "text/plain": [
       "<Figure size 1440x720 with 0 Axes>"
      ]
     },
     "execution_count": 2,
     "metadata": {},
     "output_type": "execute_result"
    },
    {
     "data": {
      "image/png": "[encoded data removed]",
      "text/plain": [
       "<Figure size 432x288 with 1 Axes>"
      ]
     },
     "metadata": {
      "needs_background": "light"
     },
     "output_type": "display_data"
    },
    {
     "data": {
      "text/plain": [
       "<Figure size 1440x720 with 0 Axes>"
      ]
     },
     "metadata": {},
     "output_type": "display_data"
    }
   ],
   "source": [
    "counties = [\"Alameda\", \"Contra Costa\", \"Marin\", \"Napa\", \"San Francisco\",\n",
    "               \"San Mateo\", \"Santa Clara\", \"Solano\", \"Sonoma\"]\n",
    "i = [\"Alameda\", \"Contra Costa\", \"Marin\", \"Napa\", \"San Francisco\",\n",
    "               \"San Mateo\"]\n",
    "i2 = [\"San Mateo\", \"Santa Clara\", \"Solano\", \"Sonoma\"]\n",
    "\n",
    "#determines which list it came from\n",
    "#returns a file  \n",
    "def which(a):\n",
    "    flag = 0\n",
    "    while(flag == 0):\n",
    "        # checking first six counties\n",
    "        for m in range (len(i)):\n",
    "            if i[m] == a:\n",
    "                flag += 1;\n",
    "                return income1\n",
    "        #checking last three counties\n",
    "        for p in range (len(i2)):\n",
    "            if i2[p] == a:\n",
    "                flag += 1;\n",
    "                return income2\n",
    "            \n",
    "            \n",
    "def countyIncome(a): # 'a' is the county\n",
    "    income = which(a)\n",
    "    mHI = 0\n",
    "    for i in range(len(income)):\n",
    "        if(income['Fact'][i] == 'MedHI'):\n",
    "            mHI = income[a][i]\n",
    "    return mHI\n",
    "\n",
    "\n",
    "\n",
    "# gathers all the excel sheet data among athe counties\n",
    "def makeList():\n",
    "    money = []\n",
    "    for l in range(len(counties)):\n",
    "        a = float(countyIncome(counties[l]))\n",
    "        print(counties[l], \" MHI is: \", a)\n",
    "        money.append(a)\n",
    "    # maybe delete as you're on that element to \n",
    "    # make it more efficient\n",
    "    return money\n",
    "\n",
    "#function to help calculate the mean\n",
    "def calculateMean(): #accepts only an integers list\n",
    "    i = 0\n",
    "    l = makeList()\n",
    "    while (i < len(l)):\n",
    "        i += float(l[i]);\n",
    "    _mean = i/len(l)\n",
    "    return _meen\n",
    "        \n",
    "\n",
    "me = calculateMean()\n",
    "print('Mean is ', me);\n",
    "plt.rcParams[\"figure.figsize\"]\n",
    "countyInc = makeList()\n",
    "x = np.arange(len(counties))\n",
    "plt.xticks(x, counties, rotation = 90)\n",
    "plt.bar(x, countyInc, color = \"g\")\n",
    "#plt.legend(\"Median Household Income\")\n",
    "plt.ylabel(\"Income\", fontweight = \"bold\")\n",
    "plt.figure(figsize=(20,10))\n"
   ]
  }
 ],
 "metadata": {
  "kernelspec": {
   "display_name": "Python 3",
   "language": "python",
   "name": "python3"
  },
  "language_info": {
   "codemirror_mode": {
    "name": "ipython",
    "version": 3
   },
   "file_extension": ".py",
   "mimetype": "text/x-python",
   "name": "python",
   "nbconvert_exporter": "python",
   "pygments_lexer": "ipython3",
   "version": "3.8.3"
  }
 },
 "nbformat": 4,
 "nbformat_minor": 4
}
